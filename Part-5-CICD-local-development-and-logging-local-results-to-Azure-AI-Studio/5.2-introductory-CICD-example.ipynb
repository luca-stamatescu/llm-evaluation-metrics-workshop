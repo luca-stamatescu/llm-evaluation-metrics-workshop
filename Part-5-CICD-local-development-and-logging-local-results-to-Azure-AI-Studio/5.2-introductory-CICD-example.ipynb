{
 "cells": [
  {
   "cell_type": "markdown",
   "metadata": {},
   "source": [
    "# CICD Example with Azure AI Studio\n",
    "\n",
    "This notebook is a highly simplified example of how Azure AI Studio and Prompt Flow can be integrated into a CICD pipeline.\n",
    "\n",
    "This notebook uses the CLI and passes variable names manually between steps, as the objective is to learn about the process throughout this workshop. For a deep dive into LLMOps and CICD, explore this repository: https://github.com/microsoft/llmops-promptflow-template."
   ]
  },
  {
   "cell_type": "markdown",
   "metadata": {},
   "source": [
    "## Set up environment variables"
   ]
  },
  {
   "cell_type": "code",
   "execution_count": null,
   "metadata": {},
   "outputs": [],
   "source": [
    "import subprocess\n",
    "import os\n",
    "from dotenv import load_dotenv\n",
    "import datetime\n",
    "\n",
    "# Load environment variables from a .env file\n",
    "load_dotenv()\n",
    "\n",
    "# For Jupyter Notebook, use the current working directory as the base directory\n",
    "base_dir = os.getcwd()\n",
    "# Move the base path one level up\n",
    "base_dir = os.path.dirname(base_dir)\n",
    "\n",
    "# Constructing the flow path relative to the base directory\n",
    "flow_path = os.path.join(base_dir, \"Part-4-custom-evaluation-metrics/PromptFlow/Custom-Evaluation-Metrics\")\n",
    "\n",
    "# Retrieve workspace name and resource group from environment variables\n",
    "workspace_name = os.getenv('WORKSPACE_NAME')\n",
    "resource_group = os.getenv('RESOURCE_GROUP')\n",
    "\n"
   ]
  },
  {
   "cell_type": "markdown",
   "metadata": {},
   "source": [
    "## Create a flow in Azure AI Studio\n",
    "\n",
    "This flow is then stored in the cloud, and can be used for evaluation, rather than uploading the flow each time from a local directory."
   ]
  },
  {
   "cell_type": "code",
   "execution_count": null,
   "metadata": {},
   "outputs": [],
   "source": [
    "current_datetime_utc = datetime.datetime.now(datetime.timezone.utc).strftime('%Y-%m-%d_%H:%M:%S_UTC')\n",
    "\n",
    "# Include the formatted datetime string in the display name\n",
    "command = f\"\"\"\n",
    "pfazure flow create --flow {flow_path} --set display_name='llm_evaluation_workshop_{current_datetime_utc}' type=evaluation --resource-group={resource_group} --workspace-name={workspace_name}\n",
    "\"\"\"\n",
    "\n",
    "# Start the command and get the process\n",
    "process = subprocess.Popen(command, shell=True, stdout=subprocess.PIPE, stderr=subprocess.PIPE, text=True)\n",
    "\n",
    "# Stream the output\n",
    "while True:\n",
    "    output = process.stdout.readline()\n",
    "    if output == '' and process.poll() is not None:\n",
    "        break\n",
    "    if output:\n",
    "        print(output.strip())\n",
    "\n",
    "# Check for errors\n",
    "err = process.stderr.read()\n",
    "if err:\n",
    "    print(f\"Error: {err}\")"
   ]
  },
  {
   "cell_type": "markdown",
   "metadata": {},
   "source": [
    "You should see a similar output to the below.\n",
    "\n",
    "Flow created successfully:\n",
    "```{\n",
    "\"name\": \"72e5ccb9-88bc-430a-90e4-638d71455f92\",\n",
    "\"type\": \"evaluation\",\n",
    "\"path\": \"Users/luca.stamatescu/promptflow/Custom-Evaluation-Metrics-06-19-2024-06-30-50/flow.dag.yaml\",\n",
    "\"code\": \"azureml://locations/australiaeast/workspaces/<your-value>/flows/72e5ccb9-88bc-430a-90e4-638d71455f92\",\n",
    "\"display_name\": \"llm_evaluation_workshop_2024-06-18_20:30:27_UTC\",\n",
    "\"owner\": {\n",
    "\"user_object_id\": \"70d305b4-2657-46fe-ae29-a684065e4a0e\",\n",
    "\"user_tenant_id\": \"<your-value>\",\n",
    "\"user_name\": \"Luca Stamatescu\"\n",
    "},\n",
    "\"is_archived\": false,\n",
    "\"created_date\": \"2024-06-18 20:31:01.329366+00:00\",\n",
    "\"flow_portal_url\": \"https://ai.azure.com/projectflows/<your-value>/details/Flow?wsid=/subscriptions/<your-value>/resourcegroups/ragdemo/providers/Microsoft.MachineLearningServices/workspaces/lstamatescu-8228\"\n",
    "}```"
   ]
  },
  {
   "cell_type": "markdown",
   "metadata": {},
   "source": [
    "Edit the below path on Azure AI Studio, using \"name\" value above. You must add azureml: as a prefix.\n",
    "Example: \"azureml:72e5ccb9-88bc-430a-90e4-638d71455f92\""
   ]
  },
  {
   "cell_type": "code",
   "execution_count": null,
   "metadata": {},
   "outputs": [],
   "source": [
    "path_on_azure_ai_studio=\"azureml:<your-flow-name>\"\n",
    "\n",
    "# Assuming the data file is now in the same directory as the base directory\n",
    "data_path = os.path.join(base_dir, \"Part-4-custom-evaluation-metrics/Data/Input/Evaluation_Dataset_Combined_SME_Ground_Truth_And_Logging_Artefacts_quick_test.csv\")\n"
   ]
  },
  {
   "cell_type": "code",
   "execution_count": null,
   "metadata": {},
   "outputs": [],
   "source": [
    "# Get the current datetime in UTC and format it as a string\n",
    "current_datetime_utc = datetime.datetime.now(datetime.timezone.utc).strftime('%Y-%m-%d_%H:%M:%S_UTC')\n",
    "\n",
    "# Include the formatted datetime string in the display name\n",
    "command = f\"\"\"\n",
    "pfazure run create --flow {path_on_azure_ai_studio} --data {data_path} --set display_name='CICDEvalRun_{current_datetime_utc}' tags.product='AzureOpenAIQnAChatBot' --column-mapping question='${{data.question}}' answer='${{data.answer}}' context='${{data.context}}' ground_truth='${{data.ground_truth}}' metrics='${{data.metrics}}' groundtruthcontext='${{data.groundtruthcontext}}' selected_tool='${{data.selected_tool}}' selected_tool_ground_truth='${{data.selected_tool_ground_truth}}' --resource-group={resource_group} --workspace-name={workspace_name} --stream -s\n",
    "\"\"\"\n",
    "\n",
    "# Start the command and get the process\n",
    "process = subprocess.Popen(command, shell=True, stdout=subprocess.PIPE, stderr=subprocess.PIPE, text=True)\n",
    "\n",
    "# Stream the output\n",
    "while True:\n",
    "    output = process.stdout.readline()\n",
    "    if output == '' and process.poll() is not None:\n",
    "        break\n",
    "    if output:\n",
    "        print(output.strip())\n",
    "\n",
    "# Check for errors\n",
    "err = process.stderr.read()\n",
    "if err:\n",
    "    print(f\"Error: {err}\")"
   ]
  },
  {
   "cell_type": "markdown",
   "metadata": {},
   "source": [
    "At the end of this output, you will see a JSON object similar to the below:\n",
    "\n",
    "```{\n",
    "\"name\": \"n72e5ccb9_88bc_430a_90e4_638d71455f92_variant_0_20240619_063748_166730\",\n",
    "\"created_on\": \"2024-06-18T20:37:54.769895+00:00\",\n",
    "\"status\": \"Completed\",\n",
    "\"display_name\": \"CICDEvalRun_2024-06-18_20:37:41_UTC\",\n",
    "\"description\": null,\n",
    "\"tags\": {\n",
    "\"product\": \"AzureOpenAIQnAChatBot\"\n",
    "},\n",
    "\"properties\": {\n",
    "\"azureml.promptflow.inputs_mapping\": \"{\\\"question\\\":\\\"${data.question}\\\",\\\"answer\\\":\\\"${data.answer}\\\",\\\"context\\\":\\\"${data.context}\\\",\\\"ground_truth\\\":\\\"${data.ground_truth}\\\",\\\"metrics\\\":\\\"${data.metrics}\\\",\\\"groundtruthcontext\\\":\\\"${data.groundtruthcontext}\\\",\\\"selected_tool\\\":\\\"${data.selected_tool}\\\",\\\"selected_tool_ground_truth\\\":\\\"${data.selected_tool_ground_truth}\\\"}\",\n",
    "\"azureml.promptflow.runtime_name\": \"automatic\",\n",
    "\"azureml.promptflow.disable_trace\": \"false\",\n",
    "\"azureml.promptflow.session_id\": \"72e5ccb9-88bc-430a-90e4-638d71455f92\",\n",
    "\"azureml.promptflow.definition_file_name\": \"flow.dag.yaml\",\n",
    "\"azureml.promptflow.flow_lineage_id\": \"72e5ccb9-88bc-430a-90e4-638d71455f92\",\n",
    "\"azureml.promptflow.flow_definition_resource_id\": \"azureml://locations/australiaeast/workspaces/<your-value>/flows/72e5ccb9-88bc-430a-90e4-638d71455f92\",\n",
    "\"azureml.promptflow.flow_id\": \"72e5ccb9-88bc-430a-90e4-638d71455f92\",\n",
    "\"_azureml.evaluation_run\": \"promptflow.BatchRun\",\n",
    "\"azureml.promptflow.snapshot_id\": \"12f2bd19-d360-4ce8-9dbe-72620a2782c2\",\n",
    "\"azureml.promptflow.runtime_version\": \"20240529.v1\",\n",
    "\"_azureml.evaluate_artifacts\": \"[{\\\"path\\\": \\\"instance_results.jsonl\\\", \\\"type\\\": \\\"table\\\"}]\",\n",
    "\"azureml.promptflow.total_tokens\": \"26856\",\n",
    "\"azureml.promptflow.completion_tokens\": \"519\",\n",
    "\"azureml.promptflow.prompt_tokens\": \"26337\"\n",
    "},\n",
    "\"creation_context\": {\n",
    "\"userObjectId\": \"70d305b4-2657-46fe-ae29-a684065e4a0e\",\n",
    "\"userPuId\": \"100320030B1E9B4C\",\n",
    "\"userIdp\": \"https://sts.windows.net/72f988bf-86f1-41af-91ab-2d7cd011db47/\",\n",
    "\"userAltSecId\": \"5::1003200302599F5A\",\n",
    "\"userIss\": \"https://sts.windows.net/16b3c013-d300-468d-ac64-7eda0820b6d3/\",\n",
    "\"userTenantId\": \"<your-value>\",\n",
    "\"userName\": \"Luca Stamatescu\",\n",
    "\"upn\": null\n",
    "},\n",
    "\"start_time\": \"2024-06-18T20:39:10.867385+00:00\",\n",
    "\"end_time\": \"2024-06-18T20:39:52.249316+00:00\",\n",
    "\"duration\": \"00:00:41.3819309\",\n",
    "\"portal_url\": \"https://ai.azure.com/projectflows/bulkrun/run/n72e5ccb9_88bc_430a_90e4_638d71455f92_variant_0_20240619_063748_166730/details?wsid=/subscriptions/<your-value>/resourcegroups/ragdemo/providers/Microsoft.MachineLearningServices/workspaces/lstamatescu-8228\",\n",
    "\"data\": \"azureml://datastores/workspaceblobstore/paths/LocalUpload/70c9645db5bacbc99157923d70e0e310/Evaluation_Dataset_Combined_SME_Ground_Truth_And_Logging_Artefacts_quick_test.csv\",\n",
    "\"output\": \"azureml://locations/australiaeast/workspaces/<your-value>/data/azureml_n72e5ccb9_88bc_430a_90e4_638d71455f92_variant_0_20240619_063748_166730_output_data_flow_outputs/versions/1\"\n",
    "}```"
   ]
  },
  {
   "cell_type": "code",
   "execution_count": null,
   "metadata": {},
   "outputs": [],
   "source": [
    "# You can also list the runs using the below command\n",
    "\n",
    "# # Get the current datetime in UTC and format it as a string\n",
    "# current_datetime_utc = datetime.datetime.now(datetime.timezone.utc).strftime('%Y-%m-%d_%H:%M:%S_UTC')\n",
    "\n",
    "# # Include the formatted datetime string in the display name\n",
    "# command = f\"\"\"\n",
    "# pfazure run list  --resource-group={resource_group} --workspace-name={workspace_name}\n",
    "# \"\"\"\n",
    "\n",
    "# # Start the command and get the process\n",
    "# process = subprocess.Popen(command, shell=True, stdout=subprocess.PIPE, stderr=subprocess.PIPE, text=True)\n",
    "\n",
    "# # Stream the output\n",
    "# while True:\n",
    "#     output = process.stdout.readline()\n",
    "#     if output == '' and process.poll() is not None:\n",
    "#         break\n",
    "#     if output:\n",
    "#         print(output.strip())\n",
    "\n",
    "# # Check for errors\n",
    "# err = process.stderr.read()\n",
    "# if err:\n",
    "#     print(f\"Error: {err}\")"
   ]
  },
  {
   "cell_type": "markdown",
   "metadata": {},
   "source": [
    "The \"name\" value will be used in the next step.\n",
    "\n",
    "Example: \"n72e5ccb9_88bc_430a_90e4_638d71455f92_variant_0_20240619_063748_166730\""
   ]
  },
  {
   "cell_type": "code",
   "execution_count": 27,
   "metadata": {},
   "outputs": [],
   "source": [
    "run_name=\"<your-name>\""
   ]
  },
  {
   "cell_type": "code",
   "execution_count": null,
   "metadata": {},
   "outputs": [],
   "source": [
    "# Get the current datetime in UTC and format it as a string\n",
    "current_datetime_utc = datetime.datetime.now(datetime.timezone.utc).strftime('%Y-%m-%d_%H:%M:%S_UTC')\n",
    "\n",
    "# Include the formatted datetime string in the display name\n",
    "command = f\"\"\"\n",
    "pfazure run show-metrics --name {run_name} --resource-group={resource_group} --workspace-name={workspace_name}\n",
    "\"\"\"\n",
    "\n",
    "# Start the command and get the process\n",
    "process = subprocess.Popen(command, shell=True, stdout=subprocess.PIPE, stderr=subprocess.PIPE, text=True)\n",
    "\n",
    "# Initialize a list to store output lines\n",
    "output_lines = []\n",
    "\n",
    "# Stream the output and store in the list\n",
    "while True:\n",
    "    output = process.stdout.readline()\n",
    "    if output == '' and process.poll() is not None:\n",
    "        break\n",
    "    if output:\n",
    "        print(output.strip())\n",
    "        output_lines.append(output.strip())\n",
    "\n",
    "# Join the output lines into a single string\n",
    "full_output = \"\\n\".join(output_lines)\n",
    "\n",
    "# Check for errors\n",
    "err = process.stderr.read()\n",
    "if err:\n",
    "    print(f\"Error: {err}\")\n",
    "\n",
    "# Now `full_output` contains all the output as a single string that you can parse\n",
    "# For example, to print the full output:\n",
    "print(full_output)"
   ]
  },
  {
   "cell_type": "markdown",
   "metadata": {},
   "source": [
    "## Use results to approve or reject a deployment\n",
    "\n",
    "You can set a threshold, and choose whether to proceed with a deployment based on the output score."
   ]
  },
  {
   "cell_type": "code",
   "execution_count": null,
   "metadata": {},
   "outputs": [],
   "source": [
    "import json\n",
    "\n",
    "# Assuming `full_output` is a JSON string that includes the gpt_similarity score\n",
    "json_output = json.loads(full_output)\n",
    "\n",
    "# Retrieve the GPT similarity score from the JSON output\n",
    "gpt_similarity_score = json_output[\"gpt_similarity\"]\n",
    "\n",
    "# Decision making based on the GPT similarity score\n",
    "if gpt_similarity_score > 4.5:\n",
    "    print(\"Deployment approved: GPT similarity score is above 4.5.\")\n",
    "    # Code to approve the deployment\n",
    "else:\n",
    "    print(\"Deployment declined: GPT similarity score is not above 4.5.\")\n",
    "    # Code to decline the deployment"
   ]
  }
 ],
 "metadata": {
  "kernelspec": {
   "display_name": ".venv",
   "language": "python",
   "name": "python3"
  },
  "language_info": {
   "codemirror_mode": {
    "name": "ipython",
    "version": 3
   },
   "file_extension": ".py",
   "mimetype": "text/x-python",
   "name": "python",
   "nbconvert_exporter": "python",
   "pygments_lexer": "ipython3",
   "version": "3.11.9"
  }
 },
 "nbformat": 4,
 "nbformat_minor": 2
}
